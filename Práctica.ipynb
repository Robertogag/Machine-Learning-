{
 "cells": [
  {
   "cell_type": "markdown",
   "id": "2c7ad2f2",
   "metadata": {},
   "source": [
    "# Objetivo\n",
    "\n",
    "Predecir el precio de las casas en relación al tipo de habitación y el barrio."
   ]
  },
  {
   "cell_type": "markdown",
   "id": "39ca8d6b",
   "metadata": {},
   "source": [
    "#### Librerias\n",
    "Primero, importamos las librerias que usaremos para el análisis.\n"
   ]
  },
  {
   "cell_type": "code",
   "execution_count": 1,
   "id": "3f93ff27",
   "metadata": {},
   "outputs": [],
   "source": [
    "import numpy as np\n",
    "import pandas as pd\n",
    "import matplotlib.pyplot as plt\n",
    "import seaborn as sns\n",
    "import sklearn\n"
   ]
  },
  {
   "cell_type": "markdown",
   "id": "15940ea6",
   "metadata": {},
   "source": [
    "#### Carga y Exploración Inicial de los Datos\n",
    "Cargamos el conjunto de datos y realizamos una exploración inicial para entender su estructura y contenido.\n"
   ]
  },
  {
   "cell_type": "code",
   "execution_count": 2,
   "id": "804ace8c",
   "metadata": {},
   "outputs": [
    {
     "data": {
      "text/html": [
       "<div>\n",
       "<style scoped>\n",
       "    .dataframe tbody tr th:only-of-type {\n",
       "        vertical-align: middle;\n",
       "    }\n",
       "\n",
       "    .dataframe tbody tr th {\n",
       "        vertical-align: top;\n",
       "    }\n",
       "\n",
       "    .dataframe thead th {\n",
       "        text-align: right;\n",
       "    }\n",
       "</style>\n",
       "<table border=\"1\" class=\"dataframe\">\n",
       "  <thead>\n",
       "    <tr style=\"text-align: right;\">\n",
       "      <th></th>\n",
       "      <th>ID</th>\n",
       "      <th>Listing Url</th>\n",
       "      <th>Scrape ID</th>\n",
       "      <th>Last Scraped</th>\n",
       "      <th>Name</th>\n",
       "      <th>Summary</th>\n",
       "      <th>Space</th>\n",
       "      <th>Description</th>\n",
       "      <th>Experiences Offered</th>\n",
       "      <th>Neighborhood Overview</th>\n",
       "      <th>...</th>\n",
       "      <th>Review Scores Communication</th>\n",
       "      <th>Review Scores Location</th>\n",
       "      <th>Review Scores Value</th>\n",
       "      <th>License</th>\n",
       "      <th>Jurisdiction Names</th>\n",
       "      <th>Cancellation Policy</th>\n",
       "      <th>Calculated host listings count</th>\n",
       "      <th>Reviews per Month</th>\n",
       "      <th>Geolocation</th>\n",
       "      <th>Features</th>\n",
       "    </tr>\n",
       "  </thead>\n",
       "  <tbody>\n",
       "    <tr>\n",
       "      <th>0</th>\n",
       "      <td>11210388</td>\n",
       "      <td>https://www.airbnb.com/rooms/11210388</td>\n",
       "      <td>20170306202425</td>\n",
       "      <td>2017-03-07</td>\n",
       "      <td>The Loft-Full Bath-Deck w/View</td>\n",
       "      <td>Loft in the Hill country 12-15 minutes directl...</td>\n",
       "      <td>This loft has a spectacular view of the hills ...</td>\n",
       "      <td>Loft in the Hill country 12-15 minutes directl...</td>\n",
       "      <td>none</td>\n",
       "      <td>This neighborhood is located in the hills west...</td>\n",
       "      <td>...</td>\n",
       "      <td>10.0</td>\n",
       "      <td>10.0</td>\n",
       "      <td>10.0</td>\n",
       "      <td>NaN</td>\n",
       "      <td>NaN</td>\n",
       "      <td>moderate</td>\n",
       "      <td>1.0</td>\n",
       "      <td>3.50</td>\n",
       "      <td>30.3373609355,-97.8632766782</td>\n",
       "      <td>Host Is Superhost,Host Has Profile Pic,Host Id...</td>\n",
       "    </tr>\n",
       "    <tr>\n",
       "      <th>1</th>\n",
       "      <td>17471131</td>\n",
       "      <td>https://www.airbnb.com/rooms/17471131</td>\n",
       "      <td>20170407214050</td>\n",
       "      <td>2017-04-08</td>\n",
       "      <td>Claris I, Friendly Rentals</td>\n",
       "      <td>This apartment has: 1 double bed, 1 double sof...</td>\n",
       "      <td>This apartment has: 1 double bed, 1 double sof...</td>\n",
       "      <td>This apartment has: 1 double bed, 1 double sof...</td>\n",
       "      <td>none</td>\n",
       "      <td>Plaza   Cataluña Catalonia Square is the large...</td>\n",
       "      <td>...</td>\n",
       "      <td>10.0</td>\n",
       "      <td>8.0</td>\n",
       "      <td>10.0</td>\n",
       "      <td>HUTB-006721</td>\n",
       "      <td>NaN</td>\n",
       "      <td>super_strict_30</td>\n",
       "      <td>106.0</td>\n",
       "      <td>0.86</td>\n",
       "      <td>41.3896829422,2.17262543017</td>\n",
       "      <td>Host Has Profile Pic,Requires License,Instant ...</td>\n",
       "    </tr>\n",
       "    <tr>\n",
       "      <th>2</th>\n",
       "      <td>17584891</td>\n",
       "      <td>https://www.airbnb.com/rooms/17584891</td>\n",
       "      <td>20170407214050</td>\n",
       "      <td>2017-04-08</td>\n",
       "      <td>Style Terrace Red, Friendly Rentals</td>\n",
       "      <td>This apartment has: 1 double bed, 1 double sof...</td>\n",
       "      <td>This apartment has: 1 double bed, 1 double sof...</td>\n",
       "      <td>This apartment has: 1 double bed, 1 double sof...</td>\n",
       "      <td>none</td>\n",
       "      <td>Plaza   Cataluña Catalonia Square is the large...</td>\n",
       "      <td>...</td>\n",
       "      <td>NaN</td>\n",
       "      <td>NaN</td>\n",
       "      <td>NaN</td>\n",
       "      <td>HUTB-007527</td>\n",
       "      <td>NaN</td>\n",
       "      <td>super_strict_30</td>\n",
       "      <td>106.0</td>\n",
       "      <td>NaN</td>\n",
       "      <td>41.3930345489,2.16217327868</td>\n",
       "      <td>Host Has Profile Pic,Requires License,Instant ...</td>\n",
       "    </tr>\n",
       "    <tr>\n",
       "      <th>3</th>\n",
       "      <td>5398030</td>\n",
       "      <td>https://www.airbnb.com/rooms/5398030</td>\n",
       "      <td>20170407214050</td>\n",
       "      <td>2017-04-08</td>\n",
       "      <td>Picasso Suite 1.4 Paseo de Gracia</td>\n",
       "      <td>Live like a local in Barcelona's most chic dis...</td>\n",
       "      <td>You wake up to the sun rising over Barcelona's...</td>\n",
       "      <td>Live like a local in Barcelona's most chic dis...</td>\n",
       "      <td>none</td>\n",
       "      <td>We're right in the heart of the chic L'Eixampl...</td>\n",
       "      <td>...</td>\n",
       "      <td>10.0</td>\n",
       "      <td>10.0</td>\n",
       "      <td>9.0</td>\n",
       "      <td>NaN</td>\n",
       "      <td>NaN</td>\n",
       "      <td>strict</td>\n",
       "      <td>24.0</td>\n",
       "      <td>1.09</td>\n",
       "      <td>41.3969668101,2.1674178103</td>\n",
       "      <td>Host Has Profile Pic,Host Identity Verified,Re...</td>\n",
       "    </tr>\n",
       "    <tr>\n",
       "      <th>4</th>\n",
       "      <td>18104606</td>\n",
       "      <td>https://www.airbnb.com/rooms/18104606</td>\n",
       "      <td>20170407214050</td>\n",
       "      <td>2017-04-08</td>\n",
       "      <td>Smart City Centre Apartment II</td>\n",
       "      <td>Unique apartment in vibrant neighborhoods, car...</td>\n",
       "      <td>License: HUTB-005313 Charming apartment, locat...</td>\n",
       "      <td>Unique apartment in vibrant neighborhoods, car...</td>\n",
       "      <td>none</td>\n",
       "      <td>NaN</td>\n",
       "      <td>...</td>\n",
       "      <td>NaN</td>\n",
       "      <td>NaN</td>\n",
       "      <td>NaN</td>\n",
       "      <td>NaN</td>\n",
       "      <td>NaN</td>\n",
       "      <td>flexible</td>\n",
       "      <td>92.0</td>\n",
       "      <td>NaN</td>\n",
       "      <td>41.3886851936,2.15514963616</td>\n",
       "      <td>Host Has Profile Pic,Host Identity Verified,Is...</td>\n",
       "    </tr>\n",
       "  </tbody>\n",
       "</table>\n",
       "<p>5 rows × 89 columns</p>\n",
       "</div>"
      ],
      "text/plain": [
       "         ID                            Listing Url       Scrape ID  \\\n",
       "0  11210388  https://www.airbnb.com/rooms/11210388  20170306202425   \n",
       "1  17471131  https://www.airbnb.com/rooms/17471131  20170407214050   \n",
       "2  17584891  https://www.airbnb.com/rooms/17584891  20170407214050   \n",
       "3   5398030   https://www.airbnb.com/rooms/5398030  20170407214050   \n",
       "4  18104606  https://www.airbnb.com/rooms/18104606  20170407214050   \n",
       "\n",
       "  Last Scraped                                 Name  \\\n",
       "0   2017-03-07       The Loft-Full Bath-Deck w/View   \n",
       "1   2017-04-08           Claris I, Friendly Rentals   \n",
       "2   2017-04-08  Style Terrace Red, Friendly Rentals   \n",
       "3   2017-04-08    Picasso Suite 1.4 Paseo de Gracia   \n",
       "4   2017-04-08       Smart City Centre Apartment II   \n",
       "\n",
       "                                             Summary  \\\n",
       "0  Loft in the Hill country 12-15 minutes directl...   \n",
       "1  This apartment has: 1 double bed, 1 double sof...   \n",
       "2  This apartment has: 1 double bed, 1 double sof...   \n",
       "3  Live like a local in Barcelona's most chic dis...   \n",
       "4  Unique apartment in vibrant neighborhoods, car...   \n",
       "\n",
       "                                               Space  \\\n",
       "0  This loft has a spectacular view of the hills ...   \n",
       "1  This apartment has: 1 double bed, 1 double sof...   \n",
       "2  This apartment has: 1 double bed, 1 double sof...   \n",
       "3  You wake up to the sun rising over Barcelona's...   \n",
       "4  License: HUTB-005313 Charming apartment, locat...   \n",
       "\n",
       "                                         Description Experiences Offered  \\\n",
       "0  Loft in the Hill country 12-15 minutes directl...                none   \n",
       "1  This apartment has: 1 double bed, 1 double sof...                none   \n",
       "2  This apartment has: 1 double bed, 1 double sof...                none   \n",
       "3  Live like a local in Barcelona's most chic dis...                none   \n",
       "4  Unique apartment in vibrant neighborhoods, car...                none   \n",
       "\n",
       "                               Neighborhood Overview  ...  \\\n",
       "0  This neighborhood is located in the hills west...  ...   \n",
       "1  Plaza   Cataluña Catalonia Square is the large...  ...   \n",
       "2  Plaza   Cataluña Catalonia Square is the large...  ...   \n",
       "3  We're right in the heart of the chic L'Eixampl...  ...   \n",
       "4                                                NaN  ...   \n",
       "\n",
       "  Review Scores Communication Review Scores Location Review Scores Value  \\\n",
       "0                        10.0                   10.0                10.0   \n",
       "1                        10.0                    8.0                10.0   \n",
       "2                         NaN                    NaN                 NaN   \n",
       "3                        10.0                   10.0                 9.0   \n",
       "4                         NaN                    NaN                 NaN   \n",
       "\n",
       "       License Jurisdiction Names Cancellation Policy  \\\n",
       "0          NaN                NaN            moderate   \n",
       "1  HUTB-006721                NaN     super_strict_30   \n",
       "2  HUTB-007527                NaN     super_strict_30   \n",
       "3          NaN                NaN              strict   \n",
       "4          NaN                NaN            flexible   \n",
       "\n",
       "  Calculated host listings count Reviews per Month  \\\n",
       "0                            1.0              3.50   \n",
       "1                          106.0              0.86   \n",
       "2                          106.0               NaN   \n",
       "3                           24.0              1.09   \n",
       "4                           92.0               NaN   \n",
       "\n",
       "                    Geolocation  \\\n",
       "0  30.3373609355,-97.8632766782   \n",
       "1   41.3896829422,2.17262543017   \n",
       "2   41.3930345489,2.16217327868   \n",
       "3    41.3969668101,2.1674178103   \n",
       "4   41.3886851936,2.15514963616   \n",
       "\n",
       "                                            Features  \n",
       "0  Host Is Superhost,Host Has Profile Pic,Host Id...  \n",
       "1  Host Has Profile Pic,Requires License,Instant ...  \n",
       "2  Host Has Profile Pic,Requires License,Instant ...  \n",
       "3  Host Has Profile Pic,Host Identity Verified,Re...  \n",
       "4  Host Has Profile Pic,Host Identity Verified,Is...  \n",
       "\n",
       "[5 rows x 89 columns]"
      ]
     },
     "execution_count": 2,
     "metadata": {},
     "output_type": "execute_result"
    }
   ],
   "source": [
    "data = pd.read_csv('C:/Users/rober/Machine Learning/airbnb-listings-extract.csv', sep=';', decimal='.')\n",
    "data.head()"
   ]
  },
  {
   "cell_type": "code",
   "execution_count": 3,
   "id": "1d4e4813",
   "metadata": {},
   "outputs": [
    {
     "name": "stdout",
     "output_type": "stream",
     "text": [
      "(14780, 89)\n",
      "************************************************************************************************************************\n",
      "<class 'pandas.core.frame.DataFrame'>\n",
      "RangeIndex: 14780 entries, 0 to 14779\n",
      "Data columns (total 89 columns):\n",
      " #   Column                          Non-Null Count  Dtype  \n",
      "---  ------                          --------------  -----  \n",
      " 0   ID                              14780 non-null  int64  \n",
      " 1   Listing Url                     14780 non-null  object \n",
      " 2   Scrape ID                       14780 non-null  int64  \n",
      " 3   Last Scraped                    14780 non-null  object \n",
      " 4   Name                            14779 non-null  object \n",
      " 5   Summary                         14189 non-null  object \n",
      " 6   Space                           10888 non-null  object \n",
      " 7   Description                     14774 non-null  object \n",
      " 8   Experiences Offered             14780 non-null  object \n",
      " 9   Neighborhood Overview           9134 non-null   object \n",
      " 10  Notes                           5644 non-null   object \n",
      " 11  Transit                         9066 non-null   object \n",
      " 12  Access                          8318 non-null   object \n",
      " 13  Interaction                     8228 non-null   object \n",
      " 14  House Rules                     9619 non-null   object \n",
      " 15  Thumbnail Url                   11960 non-null  object \n",
      " 16  Medium Url                      11960 non-null  object \n",
      " 17  Picture Url                     14761 non-null  object \n",
      " 18  XL Picture Url                  11960 non-null  object \n",
      " 19  Host ID                         14780 non-null  int64  \n",
      " 20  Host URL                        14780 non-null  object \n",
      " 21  Host Name                       14777 non-null  object \n",
      " 22  Host Since                      14777 non-null  object \n",
      " 23  Host Location                   14737 non-null  object \n",
      " 24  Host About                      9539 non-null   object \n",
      " 25  Host Response Time              12881 non-null  object \n",
      " 26  Host Response Rate              12881 non-null  float64\n",
      " 27  Host Acceptance Rate            39 non-null     object \n",
      " 28  Host Thumbnail Url              14777 non-null  object \n",
      " 29  Host Picture Url                14777 non-null  object \n",
      " 30  Host Neighbourhood              10904 non-null  object \n",
      " 31  Host Listings Count             14777 non-null  float64\n",
      " 32  Host Total Listings Count       14777 non-null  float64\n",
      " 33  Host Verifications              14774 non-null  object \n",
      " 34  Street                          14780 non-null  object \n",
      " 35  Neighbourhood                   9551 non-null   object \n",
      " 36  Neighbourhood Cleansed          14780 non-null  object \n",
      " 37  Neighbourhood Group Cleansed    13760 non-null  object \n",
      " 38  City                            14774 non-null  object \n",
      " 39  State                           14636 non-null  object \n",
      " 40  Zipcode                         14274 non-null  object \n",
      " 41  Market                          14723 non-null  object \n",
      " 42  Smart Location                  14780 non-null  object \n",
      " 43  Country Code                    14780 non-null  object \n",
      " 44  Country                         14779 non-null  object \n",
      " 45  Latitude                        14780 non-null  float64\n",
      " 46  Longitude                       14780 non-null  float64\n",
      " 47  Property Type                   14780 non-null  object \n",
      " 48  Room Type                       14780 non-null  object \n",
      " 49  Accommodates                    14780 non-null  int64  \n",
      " 50  Bathrooms                       14725 non-null  float64\n",
      " 51  Bedrooms                        14755 non-null  float64\n",
      " 52  Beds                            14731 non-null  float64\n",
      " 53  Bed Type                        14780 non-null  object \n",
      " 54  Amenities                       14610 non-null  object \n",
      " 55  Square Feet                     598 non-null    float64\n",
      " 56  Price                           14763 non-null  float64\n",
      " 57  Weekly Price                    3590 non-null   float64\n",
      " 58  Monthly Price                   3561 non-null   float64\n",
      " 59  Security Deposit                6256 non-null   float64\n",
      " 60  Cleaning Fee                    8687 non-null   float64\n",
      " 61  Guests Included                 14780 non-null  int64  \n",
      " 62  Extra People                    14780 non-null  int64  \n",
      " 63  Minimum Nights                  14780 non-null  int64  \n",
      " 64  Maximum Nights                  14780 non-null  int64  \n",
      " 65  Calendar Updated                14780 non-null  object \n",
      " 66  Has Availability                12 non-null     object \n",
      " 67  Availability 30                 14780 non-null  int64  \n",
      " 68  Availability 60                 14780 non-null  int64  \n",
      " 69  Availability 90                 14780 non-null  int64  \n",
      " 70  Availability 365                14780 non-null  int64  \n",
      " 71  Calendar last Scraped           14780 non-null  object \n",
      " 72  Number of Reviews               14780 non-null  int64  \n",
      " 73  First Review                    11618 non-null  object \n",
      " 74  Last Review                     11617 non-null  object \n",
      " 75  Review Scores Rating            11476 non-null  float64\n",
      " 76  Review Scores Accuracy          11454 non-null  float64\n",
      " 77  Review Scores Cleanliness       11460 non-null  float64\n",
      " 78  Review Scores Checkin           11443 non-null  float64\n",
      " 79  Review Scores Communication     11460 non-null  float64\n",
      " 80  Review Scores Location          11440 non-null  float64\n",
      " 81  Review Scores Value             11439 non-null  float64\n",
      " 82  License                         349 non-null    object \n",
      " 83  Jurisdiction Names              227 non-null    object \n",
      " 84  Cancellation Policy             14780 non-null  object \n",
      " 85  Calculated host listings count  14776 non-null  float64\n",
      " 86  Reviews per Month               11618 non-null  float64\n",
      " 87  Geolocation                     14780 non-null  object \n",
      " 88  Features                        14779 non-null  object \n",
      "dtypes: float64(23), int64(13), object(53)\n",
      "memory usage: 10.0+ MB\n"
     ]
    }
   ],
   "source": [
    "print(data.shape)\n",
    "print('*' * 120)\n",
    "data.info()"
   ]
  },
  {
   "cell_type": "code",
   "execution_count": 4,
   "id": "3e04e7bc",
   "metadata": {},
   "outputs": [
    {
     "data": {
      "text/html": [
       "<div>\n",
       "<style scoped>\n",
       "    .dataframe tbody tr th:only-of-type {\n",
       "        vertical-align: middle;\n",
       "    }\n",
       "\n",
       "    .dataframe tbody tr th {\n",
       "        vertical-align: top;\n",
       "    }\n",
       "\n",
       "    .dataframe thead th {\n",
       "        text-align: right;\n",
       "    }\n",
       "</style>\n",
       "<table border=\"1\" class=\"dataframe\">\n",
       "  <thead>\n",
       "    <tr style=\"text-align: right;\">\n",
       "      <th></th>\n",
       "      <th>Price</th>\n",
       "      <th>Room Type</th>\n",
       "      <th>Neighbourhood</th>\n",
       "    </tr>\n",
       "  </thead>\n",
       "  <tbody>\n",
       "    <tr>\n",
       "      <th>0</th>\n",
       "      <td>58.0</td>\n",
       "      <td>Entire home/apt</td>\n",
       "      <td>NaN</td>\n",
       "    </tr>\n",
       "    <tr>\n",
       "      <th>1</th>\n",
       "      <td>70.0</td>\n",
       "      <td>Entire home/apt</td>\n",
       "      <td>NaN</td>\n",
       "    </tr>\n",
       "    <tr>\n",
       "      <th>2</th>\n",
       "      <td>70.0</td>\n",
       "      <td>Entire home/apt</td>\n",
       "      <td>NaN</td>\n",
       "    </tr>\n",
       "    <tr>\n",
       "      <th>3</th>\n",
       "      <td>229.0</td>\n",
       "      <td>Entire home/apt</td>\n",
       "      <td>NaN</td>\n",
       "    </tr>\n",
       "    <tr>\n",
       "      <th>4</th>\n",
       "      <td>149.0</td>\n",
       "      <td>Entire home/apt</td>\n",
       "      <td>L'Antiga Esquerra de l'Eixample</td>\n",
       "    </tr>\n",
       "  </tbody>\n",
       "</table>\n",
       "</div>"
      ],
      "text/plain": [
       "   Price        Room Type                    Neighbourhood\n",
       "0   58.0  Entire home/apt                              NaN\n",
       "1   70.0  Entire home/apt                              NaN\n",
       "2   70.0  Entire home/apt                              NaN\n",
       "3  229.0  Entire home/apt                              NaN\n",
       "4  149.0  Entire home/apt  L'Antiga Esquerra de l'Eixample"
      ]
     },
     "execution_count": 4,
     "metadata": {},
     "output_type": "execute_result"
    }
   ],
   "source": [
    "# Seleccionando las columnas relevantes\n",
    "relevant_columns = ['Price', 'Room Type', 'Neighbourhood']\n",
    "data_relevant = data[relevant_columns]\n",
    "data_relevant.head()"
   ]
  },
  {
   "cell_type": "code",
   "execution_count": 5,
   "id": "a048d009",
   "metadata": {},
   "outputs": [
    {
     "name": "stdout",
     "output_type": "stream",
     "text": [
      "<class 'pandas.core.frame.DataFrame'>\n",
      "RangeIndex: 14780 entries, 0 to 14779\n",
      "Data columns (total 3 columns):\n",
      " #   Column         Non-Null Count  Dtype  \n",
      "---  ------         --------------  -----  \n",
      " 0   Price          14763 non-null  float64\n",
      " 1   Room Type      14780 non-null  object \n",
      " 2   Neighbourhood  9551 non-null   object \n",
      "dtypes: float64(1), object(2)\n",
      "memory usage: 346.5+ KB\n"
     ]
    }
   ],
   "source": [
    "data_relevant.info()"
   ]
  },
  {
   "cell_type": "markdown",
   "id": "9c36c13a",
   "metadata": {},
   "source": [
    "---\n",
    "\n",
    "---\n"
   ]
  },
  {
   "cell_type": "markdown",
   "id": "4f385b6f",
   "metadata": {},
   "source": [
    "### Limpieza y Preparación de Datos\n",
    "\n",
    "Para garantizar que nuestros datos estén en un formato óptimo para el análisis, iniciaremos con el proceso de extracción y limpieza de las siguientes columnas clave:\n",
    "\n",
    "- **Price**: Se realiza una limpieza de esta columna para asegurar que solo contenga valores numéricos. \n",
    "\n",
    "- **Room Type**: Esta columna ya se encuentra en un formato adecuado para el análisis, por lo que no requerirá ajustes adicionales.\n",
    "\n",
    "- **Neighbourhood**: Se han identificado algunos valores faltantes en esta columna.\n",
    "\n",
    "- **Valores Nulos**: Las filas donde Price o Neighbourhood son nulos se van a eliminar.\n",
    "\n",
    "---\n"
   ]
  },
  {
   "cell_type": "code",
   "execution_count": 6,
   "id": "1f1e9c8e",
   "metadata": {},
   "outputs": [
    {
     "name": "stdout",
     "output_type": "stream",
     "text": [
      "Después de limpiar 'Price':\n",
      "   Price        Room Type                    Neighbourhood\n",
      "0   58.0  Entire home/apt                              NaN\n",
      "1   70.0  Entire home/apt                              NaN\n",
      "2   70.0  Entire home/apt                              NaN\n",
      "3  229.0  Entire home/apt                              NaN\n",
      "4  149.0  Entire home/apt  L'Antiga Esquerra de l'Eixample\n"
     ]
    }
   ],
   "source": [
    "# Seleccionando las columnas relevantes y creando una copia del DataFrame\n",
    "data_relevant = data[relevant_columns].copy()\n",
    "\n",
    "# Limpieza de la columna 'Price'\n",
    "data_relevant['Price'] = data_relevant['Price'].replace('[\\$,]', '', regex=True).astype(float)\n",
    "print(\"Después de limpiar 'Price':\")\n",
    "print(data_relevant.head())\n",
    "\n",
    "\n"
   ]
  },
  {
   "cell_type": "code",
   "execution_count": 7,
   "id": "c3ae2ab6",
   "metadata": {
    "scrolled": true
   },
   "outputs": [
    {
     "name": "stdout",
     "output_type": "stream",
     "text": [
      "Después de eliminar filas con valores faltantes:\n",
      "<class 'pandas.core.frame.DataFrame'>\n",
      "Int64Index: 9539 entries, 4 to 14779\n",
      "Data columns (total 3 columns):\n",
      " #   Column         Non-Null Count  Dtype  \n",
      "---  ------         --------------  -----  \n",
      " 0   Price          9539 non-null   float64\n",
      " 1   Room Type      9539 non-null   object \n",
      " 2   Neighbourhood  9539 non-null   object \n",
      "dtypes: float64(1), object(2)\n",
      "memory usage: 298.1+ KB\n",
      "None\n"
     ]
    }
   ],
   "source": [
    "# Eliminando filas con valores faltantes\n",
    "data_clean = data_relevant.dropna()\n",
    "print(\"Después de eliminar filas con valores faltantes:\")\n",
    "print(data_clean.info())\n",
    "\n"
   ]
  },
  {
   "cell_type": "markdown",
   "id": "0ab78e51",
   "metadata": {},
   "source": [
    "---\n",
    "\n",
    "---\n",
    "\n",
    "\n"
   ]
  },
  {
   "cell_type": "markdown",
   "id": "f8f26ee8",
   "metadata": {},
   "source": [
    "### Manejo de Outliers en Price\n",
    "\n",
    "Identificamos y manejamos los outliers en la columna `Price`. Este proceso es crucial para mejorar la precisión del análisis, ya que los valores atípicos pueden distorsionar los resultados y las interpretaciones. \n"
   ]
  },
  {
   "cell_type": "code",
   "execution_count": 8,
   "id": "2e2c1e0a",
   "metadata": {
    "scrolled": true
   },
   "outputs": [
    {
     "name": "stdout",
     "output_type": "stream",
     "text": [
      "Después de eliminar outliers en 'Price':\n",
      "             Price\n",
      "count  9043.000000\n",
      "mean     62.300122\n",
      "std      34.766599\n",
      "min       9.000000\n",
      "25%      35.000000\n",
      "50%      55.000000\n",
      "75%      80.000000\n",
      "max     172.000000\n"
     ]
    }
   ],
   "source": [
    "# Manejo de outliers para 'Price'\n",
    "Q1 = data_clean['Price'].quantile(0.25)\n",
    "Q3 = data_clean['Price'].quantile(0.75)\n",
    "IQR = Q3 - Q1\n",
    "lower_bound = Q1 - 1.5 * IQR\n",
    "upper_bound = Q3 + 1.5 * IQR\n",
    "data_no_outliers = data_clean[(data_clean['Price'] >= lower_bound) & (data_clean['Price'] <= upper_bound)]\n",
    "print(\"Después de eliminar outliers en 'Price':\")\n",
    "print(data_no_outliers.describe())"
   ]
  },
  {
   "cell_type": "markdown",
   "id": "dc620d5c",
   "metadata": {},
   "source": [
    "---\n",
    "\n",
    "---\n"
   ]
  },
  {
   "cell_type": "markdown",
   "id": "e6fa6609",
   "metadata": {},
   "source": [
    "### Distribución de Precios"
   ]
  },
  {
   "cell_type": "code",
   "execution_count": 9,
   "id": "6afa44e1",
   "metadata": {
    "scrolled": true
   },
   "outputs": [
    {
     "data": {
      "image/png": "[encoded data removed]",
      "text/plain": [
       "<Figure size 1000x600 with 1 Axes>"
      ]
     },
     "metadata": {},
     "output_type": "display_data"
    }
   ],
   "source": [
    "# Configuración de estilo de gráficos\n",
    "sns.set(style=\"whitegrid\")\n",
    "\n",
    "# Histograma de la distribución de precios\n",
    "plt.figure(figsize=(10, 6))\n",
    "sns.histplot(data_no_outliers['Price'], bins=30, kde=True)\n",
    "plt.title('Distribución de Precios de Propiedades en Airbnb')\n",
    "plt.xlabel('Precio')\n",
    "plt.ylabel('Frecuencia')\n",
    "plt.show()"
   ]
  },
  {
   "cell_type": "markdown",
   "id": "ef89af32",
   "metadata": {},
   "source": [
    "La distribución de precios en el conjunto de datos revela patrones interesantes:\n",
    "\n",
    "- **Concentración en el Rango Bajo**: Observamos que la mayoría de los precios se agrupan en el extremo inferior del espectro. Esto indica una tendencia predominante hacia propiedades más asequibles en nuestro conjunto de datos.\n",
    "\n",
    "- **Cola Larga hacia la Derecha**: Existe una cola extendida hacia el lado derecho de la distribución. Esto sugiere la presencia de algunas propiedades con precios significativamente más altos, aunque estas son menos frecuentes en comparación con las opciones más económicas.\n"
   ]
  },
  {
   "cell_type": "markdown",
   "id": "c06a3a78",
   "metadata": {},
   "source": [
    "---\n",
    "\n",
    "---\n"
   ]
  },
  {
   "cell_type": "markdown",
   "id": "8ecca376",
   "metadata": {},
   "source": [
    "### Análisis de Precios por Tipo de Habitación: Gráfico de Caja\n",
    "\n",
    "\n"
   ]
  },
  {
   "cell_type": "code",
   "execution_count": 10,
   "id": "3dcf5984",
   "metadata": {
    "scrolled": true
   },
   "outputs": [
    {
     "data": {
      "image/png": "[encoded data removed]",
      "text/plain": [
       "<Figure size 1200x600 with 1 Axes>"
      ]
     },
     "metadata": {},
     "output_type": "display_data"
    }
   ],
   "source": [
    "# Gráfico de caja para comparar precios entre diferentes tipos de habitaciones\n",
    "plt.figure(figsize=(12, 6))\n",
    "sns.boxplot(x='Room Type', y='Price', data=data_no_outliers)\n",
    "plt.title('Comparación de Precios por Tipo de Habitación')\n",
    "plt.xlabel('Tipo de Habitación')\n",
    "plt.ylabel('Precio')\n",
    "plt.show()"
   ]
  },
  {
   "cell_type": "markdown",
   "id": "87f07a5b",
   "metadata": {},
   "source": [
    "El gráfico de caja proporciona una visión detallada de cómo varían los precios entre los diferentes tipos de habitaciones:\n",
    "\n",
    "- **Distribuciones Únicas por Tipo de Habitación**: Cada categoría de habitación (como \"Entire home/apt\", \"Private room\", y \"Shared room\") muestra una distribución de precios distinta, caracterizada por medianas y rangos de precios específicos.\n",
    "\n",
    "- **\"Entire home/apt\"**: Esta categoría tiende a presentar precios más elevados. Esto es previsible, ya que ofrece mayor privacidad y espacio, lo que generalmente se valora más en el mercado.\n",
    "\n",
    "- **\"Private room\" y \"Shared room\"**: Estos tipos de habitaciones suelen ser opciones más económicas. Se caracterizan por tener una mediana y un rango de precios más bajos, reflejando su menor demanda de privacidad y espacio en comparación con \"Entire home/apt\"."
   ]
  },
  {
   "cell_type": "markdown",
   "id": "839149e4",
   "metadata": {},
   "source": [
    "---\n",
    "\n",
    "---\n"
   ]
  },
  {
   "cell_type": "markdown",
   "id": "71252905",
   "metadata": {},
   "source": [
    "### Análisis del Gráfico de Caja: 10 Barrios con Más Listados en Airbnb"
   ]
  },
  {
   "cell_type": "code",
   "execution_count": 11,
   "id": "48c1de28",
   "metadata": {},
   "outputs": [
    {
     "data": {
      "image/png": "[encoded data removed]",
      "text/plain": [
       "<Figure size 1500x800 with 1 Axes>"
      ]
     },
     "metadata": {},
     "output_type": "display_data"
    }
   ],
   "source": [
    "# Análisis de precios por barrio para los 10 barrios con más listados\n",
    "top_neighbourhoods = data_no_outliers['Neighbourhood'].value_counts().head(10).index\n",
    "data_top_neighbourhoods = data_no_outliers[data_no_outliers['Neighbourhood'].isin(top_neighbourhoods)]\n",
    "plt.figure(figsize=(15, 8))\n",
    "sns.boxplot(x='Neighbourhood', y='Price', data=data_top_neighbourhoods)\n",
    "plt.xticks(rotation=45)\n",
    "plt.title('Comparación de Precios por Barrio (Top 10 Barrios con Más Listados)')\n",
    "plt.xlabel('Baarrio')\n",
    "plt.ylabel('Precio')\n",
    "plt.show()"
   ]
  },
  {
   "cell_type": "markdown",
   "id": "981d4d1a",
   "metadata": {},
   "source": [
    "El gráfico de caja para los 10 barrios con más listados en Airbnb nos proporciona varias observaciones clave:\n",
    "\n",
    "- **Variabilidad en Precios entre Barrios**: Se observa una variabilidad considerable en los precios a través de los diferentes barrios. Esto se evidencia en las medianas de precios, que varían significativamente, y en los rangos de precios, que son más amplios en algunos barrios. Esto indica una diversidad en las opciones de alojamiento disponibles.\n",
    "\n",
    "- **Concentración de Propiedades de Alto Precio**: En ciertos barrios, notamos una concentración más alta de propiedades con precios elevados. Esto se manifiesta en la presencia de valores atípicos (outliers) en el extremo superior de sus rangos de precios, sugiriendo que estos barrios podrían ser zonas de mayor demanda o de alojamientos de lujo.\n"
   ]
  },
  {
   "cell_type": "markdown",
   "id": "c270d52c",
   "metadata": {},
   "source": [
    "---\n",
    "\n",
    "---\n"
   ]
  },
  {
   "cell_type": "markdown",
   "id": "fefd917c",
   "metadata": {},
   "source": [
    "#### Preparación para Modelado\n",
    "Preparamos los datos para el modelado, incluyendo la codificación de variables categóricas y la división en conjuntos de entrenamiento y prueba.\n"
   ]
  },
  {
   "cell_type": "code",
   "execution_count": 12,
   "id": "26f96032",
   "metadata": {},
   "outputs": [],
   "source": [
    "from sklearn.model_selection import train_test_split\n",
    "\n",
    "# Codificación One-Hot de las variables categóricas\n",
    "data_model = pd.get_dummies(data_no_outliers, columns=['Room Type', 'Neighbourhood'])\n",
    "\n",
    "# División del dataset en conjuntos de entrenamiento y prueba\n",
    "X = data_model.drop('Price', axis=1)\n",
    "y = data_model['Price']\n",
    "X_train, X_test, y_train, y_test = train_test_split(X, y, test_size=0.2, random_state=42)\n"
   ]
  },
  {
   "cell_type": "markdown",
   "id": "1ffc93e4",
   "metadata": {},
   "source": [
    "#### Modelado y Evaluación\n",
    "Entrenamos y evaluamos diferentes modelos de machine learning, como regresión lineal, Lasso y Ridge, para predecir los precios de las propiedades.\n",
    "\n",
    "\n",
    "#### Distribución de los Datos\n",
    "\n",
    "La distribución de los datos en el conjunto de entrenamiento y prueba se presenta de la siguiente manera:\n",
    "\n",
    "- **Conjunto de Entrenamiento**: Contiene 7234 muestras, lo que representa aproximadamente el **80%** del total de datos.\n",
    "\n",
    "- **Conjunto de Prueba**: Compuesto por 1809 muestras, representando aproximadamente el **20%** del total de datos. \n",
    "\n",
    "\n"
   ]
  },
  {
   "cell_type": "markdown",
   "id": "21fc0b8b",
   "metadata": {},
   "source": [
    "---\n",
    "\n",
    "---"
   ]
  },
  {
   "cell_type": "code",
   "execution_count": 13,
   "id": "573c7264",
   "metadata": {},
   "outputs": [
    {
     "data": {
      "text/plain": [
       "(1.7523809302893188e+25, -1.408496561907542e+22)"
      ]
     },
     "execution_count": 13,
     "metadata": {},
     "output_type": "execute_result"
    }
   ],
   "source": [
    "from sklearn.linear_model import LinearRegression\n",
    "from sklearn.metrics import mean_squared_error, r2_score\n",
    "\n",
    "# Entrenando el modelo de regresión lineal\n",
    "lin_reg = LinearRegression()\n",
    "lin_reg.fit(X_train, y_train)\n",
    "y_pred_lin_reg = lin_reg.predict(X_test)\n",
    "\n",
    "# Evaluando el modelo\n",
    "mse_lin_reg = mean_squared_error(y_test, y_pred_lin_reg)\n",
    "r2_lin_reg = r2_score(y_test, y_pred_lin_reg)\n",
    "\n",
    "\n",
    "\n",
    "mse_lin_reg, r2_lin_reg\n",
    "\n"
   ]
  },
  {
   "cell_type": "markdown",
   "id": "067043da",
   "metadata": {},
   "source": [
    "#### Estos resultados indican un problema con el modelo. Un valor de R² negativo de esta magnitud y un MSE extremadamente alto sugieren que el modelo no está funcionando adecuadamente.\n"
   ]
  },
  {
   "cell_type": "markdown",
   "id": "5e293f30",
   "metadata": {},
   "source": [
    "---\n",
    "\n",
    "---"
   ]
  },
  {
   "cell_type": "markdown",
   "id": "0c5af151",
   "metadata": {},
   "source": [
    "### Modelo de Regresión Lasso\n",
    "\n",
    "#### Utilizaremos la regresión Lasso para la regularización. La regresión Lasso es útil en situaciones donde hay alta multicolinealidad"
   ]
  },
  {
   "cell_type": "code",
   "execution_count": 15,
   "id": "a0635221",
   "metadata": {},
   "outputs": [
    {
     "name": "stdout",
     "output_type": "stream",
     "text": [
      "Resultados del Modelo Lasso\n",
      "====================================\n",
      "Alpha: 0.1\n",
      "MSE: 748.65\n",
      "R²: 0.3983\n"
     ]
    }
   ],
   "source": [
    "from sklearn.linear_model import Lasso\n",
    "\n",
    "# Definiendo el valor de alpha para Lasso\n",
    "alpha_lasso = 0.1\n",
    "\n",
    "# Creando y entrenando el modelo Lasso\n",
    "lasso = Lasso(alpha=alpha_lasso)\n",
    "lasso.fit(X_train, y_train)\n",
    "y_pred_lasso = lasso.predict(X_test)\n",
    "\n",
    "# Calculando el MSE y R² para Lasso\n",
    "mse_lasso = mean_squared_error(y_test, y_pred_lasso)\n",
    "r2_lasso = r2_score(y_test, y_pred_lasso)\n",
    "\n",
    "print(\"Resultados del Modelo Lasso\")\n",
    "print(\"====================================\")\n",
    "print(f\"Alpha: {alpha_lasso}\")\n",
    "print(f\"MSE: {mse_lasso:.2f}\")\n",
    "print(f\"R²: {r2_lasso:.4f}\")\n",
    "\n",
    "\n",
    "\n"
   ]
  },
  {
   "cell_type": "markdown",
   "id": "8517f820",
   "metadata": {},
   "source": [
    "\n",
    "\n",
    "Los resultados recientes indican una **mejora significativa** en comparación con el modelo de regresión lineal anterior:\n",
    "\n",
    "- **R-squared (R²)**: Ahora es de `0.398`, lo que significa que el modelo puede explicar aproximadamente el **39.8%** de la variabilidad en los precios de las propiedades. Esto representa una comprensión sustancialmente mejor de los factores que influyen en los precios.\n",
    "\n",
    "- **Mean Squared Error (MSE)**: Se ha reducido a un nivel más manejable y razonable, lo que indica una mayor precisión en las predicciones del modelo.\n",
    "\n",
    "Estas mejoras sugieren que el modelo ajustado es considerablemente más efectivo y preciso en la predicción de precios que la versión anterior.\n"
   ]
  },
  {
   "cell_type": "markdown",
   "id": "ddefc67d",
   "metadata": {},
   "source": [
    "---\n",
    "\n",
    "---"
   ]
  },
  {
   "cell_type": "markdown",
   "id": "02c46fc4",
   "metadata": {},
   "source": [
    "### Evaluación del Modelo Ridge"
   ]
  },
  {
   "cell_type": "code",
   "execution_count": 16,
   "id": "9fc7cf02",
   "metadata": {},
   "outputs": [
    {
     "name": "stdout",
     "output_type": "stream",
     "text": [
      "Resultados del Modelo Ridge\n",
      "====================================\n",
      "Alpha: 1.0\n",
      "MSE: 680.44\n",
      "R²: 0.4531\n"
     ]
    }
   ],
   "source": [
    "from sklearn.linear_model import Ridge\n",
    "\n",
    "# Definiendo el valor de alpha para Ridge\n",
    "alpha_ridge = 1.0\n",
    "\n",
    "# Creando y entrenando el modelo Ridge\n",
    "ridge = Ridge(alpha=alpha_ridge)\n",
    "ridge.fit(X_train, y_train)\n",
    "y_pred_ridge = ridge.predict(X_test)\n",
    "\n",
    "# Calculando el MSE y R² para Ridge\n",
    "mse_ridge = mean_squared_error(y_test, y_pred_ridge)\n",
    "r2_ridge = r2_score(y_test, y_pred_ridge)\n",
    "\n",
    "print(\"Resultados del Modelo Ridge\")\n",
    "print(\"====================================\")\n",
    "print(f\"Alpha: {alpha_ridge}\")\n",
    "print(f\"MSE: {mse_ridge:.2f}\")\n",
    "print(f\"R²: {r2_ridge:.4f}\")\n",
    "\n",
    "\n",
    "\n"
   ]
  },
  {
   "cell_type": "markdown",
   "id": "b6f2f8bd",
   "metadata": {},
   "source": [
    "\n",
    "\n",
    "Los resultados obtenidos indican lo siguiente:\n",
    " \n",
    "- **Comparación con el Modelo Lasso**: La capacidad de este modelo para predecir el precio resulta ser ligeramente superior en comparación con el modelo Lasso.\n",
    "\n"
   ]
  },
  {
   "cell_type": "markdown",
   "id": "986ba18e",
   "metadata": {},
   "source": [
    "---\n",
    "\n",
    "\n",
    "---"
   ]
  },
  {
   "cell_type": "markdown",
   "id": "b15de82e",
   "metadata": {},
   "source": [
    "## **Validación Cruzada**\n"
   ]
  },
  {
   "cell_type": "code",
   "execution_count": 17,
   "id": "aff844ae",
   "metadata": {},
   "outputs": [
    {
     "name": "stdout",
     "output_type": "stream",
     "text": [
      "Resultados de la Validación Cruzada\n",
      "====================================\n",
      "Modelo Lasso (alpha = 0.1):\n",
      "  R² Promedio: 0.4182\n",
      "  MSE Promedio: 702.35\n",
      "\n",
      "Modelo Ridge (alpha = 1.0):\n",
      "  R² Promedio: 0.4622\n",
      "  MSE Promedio: 648.12\n"
     ]
    }
   ],
   "source": [
    "from sklearn.model_selection import cross_val_score\n",
    "\n",
    "# Validación cruzada para Lasso\n",
    "scores_lasso_r2 = cross_val_score(lasso, X, y, cv=5, scoring='r2')\n",
    "avg_r2_lasso = scores_lasso_r2.mean()\n",
    "scores_lasso_mse = cross_val_score(lasso, X, y, cv=5, scoring='neg_mean_squared_error')\n",
    "avg_mse_lasso = -scores_lasso_mse.mean()\n",
    "\n",
    "# Validación cruzada para Ridge\n",
    "scores_ridge_r2 = cross_val_score(ridge, X, y, cv=5, scoring='r2')\n",
    "avg_r2_ridge = scores_ridge_r2.mean()\n",
    "scores_ridge_mse = cross_val_score(ridge, X, y, cv=5, scoring='neg_mean_squared_error')\n",
    "avg_mse_ridge = -scores_ridge_mse.mean()\n",
    "\n",
    "\n",
    "print(\"Resultados de la Validación Cruzada\")\n",
    "print(\"====================================\")\n",
    "print(f\"Modelo Lasso (alpha = {alpha_lasso}):\")\n",
    "print(f\"  R² Promedio: {avg_r2_lasso:.4f}\")\n",
    "print(f\"  MSE Promedio: {avg_mse_lasso:.2f}\")\n",
    "print()\n",
    "print(f\"Modelo Ridge (alpha = {alpha_ridge}):\")\n",
    "print(f\"  R² Promedio: {avg_r2_ridge:.4f}\")\n",
    "print(f\"  MSE Promedio: {avg_mse_ridge:.2f}\")\n",
    "\n"
   ]
  },
  {
   "cell_type": "markdown",
   "id": "a51b5ec5",
   "metadata": {},
   "source": [
    "Los resultados de la validación cruzada indican que, en promedio, el modelo **Ridge** muestra un mejor desempeño que el modelo **Lasso** para este conjunto de datos específico. Esto se refleja tanto en términos de ajuste (R²) como en la\n"
   ]
  },
  {
   "cell_type": "markdown",
   "id": "7f86cd55",
   "metadata": {},
   "source": [
    "## **Conclusión:**\n",
    "\n",
    "A pesar de que el modelo **Ridge** demostró un mejor desempeño en comparación con el modelo **Lasso**, el valor de R² todavía indica que existe una cantidad significativa de variabilidad en los datos que el modelo no puede capturar de manera satisfactoria.\n"
   ]
  },
  {
   "cell_type": "code",
   "execution_count": null,
   "id": "d7ea58da",
   "metadata": {},
   "outputs": [],
   "source": []
  }
 ],
 "metadata": {
  "kernelspec": {
   "display_name": "Python 3 (ipykernel)",
   "language": "python",
   "name": "python3"
  },
  "language_info": {
   "codemirror_mode": {
    "name": "ipython",
    "version": 3
   },
   "file_extension": ".py",
   "mimetype": "text/x-python",
   "name": "python",
   "nbconvert_exporter": "python",
   "pygments_lexer": "ipython3",
   "version": "3.10.9"
  }
 },
 "nbformat": 4,
 "nbformat_minor": 5
}
